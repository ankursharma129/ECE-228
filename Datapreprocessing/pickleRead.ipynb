{
 "cells": [
  {
   "cell_type": "code",
   "execution_count": 1,
   "id": "657f904b",
   "metadata": {},
   "outputs": [],
   "source": [
    "import pickle"
   ]
  },
  {
   "cell_type": "code",
   "execution_count": 21,
   "id": "e48f1246",
   "metadata": {},
   "outputs": [],
   "source": [
    "import pandas as pd\n",
    "import numpy as np"
   ]
  },
  {
   "cell_type": "code",
   "execution_count": 3,
   "id": "d70f0003",
   "metadata": {},
   "outputs": [],
   "source": [
    "with open('synthesisStatistics.pickle', 'rb') as pickle_file:\n",
    "    content = pickle.load(pickle_file)"
   ]
  },
  {
   "cell_type": "code",
   "execution_count": 4,
   "id": "54f0ac0a",
   "metadata": {},
   "outputs": [],
   "source": [
    "with open('origAIGNodesDict.pickle', 'rb') as pickle_file:\n",
    "    content = pickle.load(pickle_file)"
   ]
  },
  {
   "cell_type": "code",
   "execution_count": 5,
   "id": "9a03d002",
   "metadata": {},
   "outputs": [],
   "source": [
    "import torch"
   ]
  },
  {
   "cell_type": "code",
   "execution_count": 6,
   "id": "18f86ff0",
   "metadata": {},
   "outputs": [
    {
     "data": {
      "text/plain": [
       "Data(and_nodes=11464, desName=[1], edge_index=[2, 25065], edge_type=[25065], longest_path=11, node_id=[15940], node_type=[15940], not_edges=14326, num_inverted_predecessors=[15940], pi=2339, po=2137, stepID=[1], synID=[1], synVec=[20])"
      ]
     },
     "execution_count": 6,
     "metadata": {},
     "output_type": "execute_result"
    }
   ],
   "source": [
    "torch.load('ac97_ctrl_syn706_step0.pt')"
   ]
  },
  {
   "cell_type": "code",
   "execution_count": 7,
   "id": "34c9b030",
   "metadata": {},
   "outputs": [],
   "source": [
    "data = torch.load('i2c_syn1204_step0.pt')"
   ]
  },
  {
   "cell_type": "code",
   "execution_count": 8,
   "id": "ddced76c",
   "metadata": {},
   "outputs": [],
   "source": [
    "a = data.to_dict()"
   ]
  },
  {
   "cell_type": "code",
   "execution_count": 9,
   "id": "e2bfe3b7",
   "metadata": {},
   "outputs": [
    {
     "name": "stdout",
     "output_type": "stream",
     "text": [
      "<_io.BytesIO object at 0x0000020CCAA81040>\n"
     ]
    }
   ],
   "source": [
    "import io\n",
    "\n",
    "with open('ac97_ctrl_syn706_step0.pt', 'rb') as f:\n",
    "    buffer = io.BytesIO(f.read())\n",
    "    print(buffer)"
   ]
  },
  {
   "cell_type": "code",
   "execution_count": 10,
   "id": "c4b69229",
   "metadata": {
    "scrolled": true
   },
   "outputs": [
    {
     "data": {
      "text/plain": [
       "array(177, dtype=int64)"
      ]
     },
     "execution_count": 10,
     "metadata": {},
     "output_type": "execute_result"
    }
   ],
   "source": [
    "a['pi'].numpy()"
   ]
  },
  {
   "cell_type": "code",
   "execution_count": 11,
   "id": "46c8d1ac",
   "metadata": {
    "scrolled": true
   },
   "outputs": [
    {
     "data": {
      "text/plain": [
       "dict_keys(['and_nodes', 'desName', 'edge_index', 'edge_type', 'longest_path', 'node_id', 'node_type', 'not_edges', 'num_inverted_predecessors', 'pi', 'po', 'stepID', 'synID', 'synVec'])"
      ]
     },
     "execution_count": 11,
     "metadata": {},
     "output_type": "execute_result"
    }
   ],
   "source": [
    "a.keys()"
   ]
  },
  {
   "cell_type": "code",
   "execution_count": 34,
   "id": "52d98e5a",
   "metadata": {},
   "outputs": [
    {
     "data": {
      "text/plain": [
       "(array([ 177,  177,  178, ..., 1472, 1472, 1473], dtype=int64),\n",
       " array([   6,    7,    4, ...,  176,  353, 1472], dtype=int64))"
      ]
     },
     "execution_count": 34,
     "metadata": {},
     "output_type": "execute_result"
    }
   ],
   "source": [
    "a['edge_index'].numpy()[0], a['edge_index'].numpy()[1]"
   ]
  },
  {
   "cell_type": "code",
   "execution_count": 22,
   "id": "a0f10180",
   "metadata": {},
   "outputs": [
    {
     "data": {
      "text/plain": [
       "array([0, 1], dtype=int64)"
      ]
     },
     "execution_count": 22,
     "metadata": {},
     "output_type": "execute_result"
    }
   ],
   "source": [
    "np.unique(a['edge_type'].numpy())"
   ]
  },
  {
   "cell_type": "code",
   "execution_count": 17,
   "id": "2ebff213",
   "metadata": {},
   "outputs": [
    {
     "data": {
      "text/plain": [
       "array([3, 0, 4, 4, 6, 1, 5, 5, 1, 3, 2, 4, 0, 6, 1, 0, 6, 2, 1, 4],\n",
       "      dtype=int64)"
      ]
     },
     "execution_count": 17,
     "metadata": {},
     "output_type": "execute_result"
    }
   ],
   "source": [
    "a['synVec'].numpy()"
   ]
  },
  {
   "cell_type": "code",
   "execution_count": 28,
   "id": "a35ba2f8",
   "metadata": {},
   "outputs": [
    {
     "data": {
      "text/plain": [
       "(1474,)"
      ]
     },
     "execution_count": 28,
     "metadata": {},
     "output_type": "execute_result"
    }
   ],
   "source": [
    "np.array(a['node_id']).shape"
   ]
  },
  {
   "cell_type": "code",
   "execution_count": 35,
   "id": "0d0ba65a",
   "metadata": {},
   "outputs": [
    {
     "data": {
      "text/plain": [
       "[1204]"
      ]
     },
     "execution_count": 35,
     "metadata": {},
     "output_type": "execute_result"
    }
   ],
   "source": [
    "a['synID']"
   ]
  },
  {
   "cell_type": "code",
   "execution_count": null,
   "id": "a930f79c",
   "metadata": {},
   "outputs": [],
   "source": []
  },
  {
   "cell_type": "code",
   "execution_count": null,
   "id": "46af64c5",
   "metadata": {},
   "outputs": [],
   "source": [
    "p.head()"
   ]
  },
  {
   "cell_type": "code",
   "execution_count": null,
   "id": "d3f36cc7",
   "metadata": {},
   "outputs": [],
   "source": [
    "p.to_csv('synthesisStatistics.csv')"
   ]
  },
  {
   "cell_type": "code",
   "execution_count": null,
   "id": "e2f35110",
   "metadata": {},
   "outputs": [],
   "source": [
    "p.columns"
   ]
  },
  {
   "cell_type": "code",
   "execution_count": null,
   "id": "0526f3ff",
   "metadata": {},
   "outputs": [],
   "source": [
    "data_bible = {}\n",
    "for i in p.columns:\n",
    "    data_bible[i] = {}"
   ]
  },
  {
   "cell_type": "code",
   "execution_count": null,
   "id": "6acdea37",
   "metadata": {},
   "outputs": [],
   "source": [
    "data_bible"
   ]
  },
  {
   "cell_type": "code",
   "execution_count": null,
   "id": "8f11005d",
   "metadata": {},
   "outputs": [],
   "source": [
    "for i in range(len(data_bible)):\n",
    "    for j in range(1500):\n",
    "        data_bible[p.columns[i]][j] = [p[p.columns[i]][0][j], p[p.columns[i]][1][j], p[p.columns[i]][2][j], p[p.columns[i]][3][j], p[p.columns[i]][4][j]]"
   ]
  },
  {
   "cell_type": "code",
   "execution_count": null,
   "id": "af2c5f6d",
   "metadata": {},
   "outputs": [],
   "source": [
    "i = 'Rocket_csr'\n",
    "j = 0\n",
    "[p[i][0][j], p[i][1][j], p[i][2][j], p[i][3][j], p[i][4][j]]"
   ]
  },
  {
   "cell_type": "code",
   "execution_count": null,
   "id": "e32db14b",
   "metadata": {},
   "outputs": [],
   "source": [
    "data_bible"
   ]
  },
  {
   "cell_type": "code",
   "execution_count": null,
   "id": "742a0f60",
   "metadata": {},
   "outputs": [],
   "source": [
    "import json\n",
    "\n",
    "with open('datapoints.json', 'w') as fp:\n",
    "    json.dump(data_bible, fp)"
   ]
  },
  {
   "cell_type": "code",
   "execution_count": null,
   "id": "a8cc0c1a",
   "metadata": {},
   "outputs": [],
   "source": [
    "## Splitting the training and testing data as a normal distribution of number of points/recipes picked per design vs \n",
    "## the number of designs per data point. The designs picked at each step can again be randomized so that we get a very nice \n",
    "## and even split of data"
   ]
  },
  {
   "cell_type": "code",
   "execution_count": null,
   "id": "4cd70295",
   "metadata": {},
   "outputs": [],
   "source": [
    "import numpy as np\n",
    "\n",
    "mean = 300\n",
    "std_dev = 30\n",
    "points = 48\n",
    "\n",
    "arr = np.random.normal(mean, std_dev, points)\n",
    "arr = arr.astype(int)\n",
    "print(arr)"
   ]
  },
  {
   "cell_type": "code",
   "execution_count": null,
   "id": "82d7ceca",
   "metadata": {},
   "outputs": [],
   "source": [
    "a = [i for i in range(1,10)]\n",
    "print(a)\n",
    "np.random.choice(a, size=3, replace=False)"
   ]
  },
  {
   "cell_type": "code",
   "execution_count": null,
   "id": "13f9c1d9",
   "metadata": {},
   "outputs": [],
   "source": [
    "test_dict = {}\n",
    "train_dict = {}\n",
    "count = 0\n",
    "for i in data_bible:\n",
    "    indices = [i for i in range(1, 1501)]\n",
    "    ind = np.random.choice(indices, size=arr[count], replace=False)\n",
    "    for j in ind:\n",
    "        if i not in test_dict:\n",
    "            test_dict[i] = {}\n",
    "            test_dict[i][str(j)] = data_bible[i][j-1]\n",
    "        test_dict[i][str(j)] = data_bible[i][j-1]\n",
    "    count+=1"
   ]
  },
  {
   "cell_type": "code",
   "execution_count": null,
   "id": "eb82c98d",
   "metadata": {},
   "outputs": [],
   "source": [
    "len(test_dict['Rocket_csr'])"
   ]
  },
  {
   "cell_type": "code",
   "execution_count": null,
   "id": "c78d87ec",
   "metadata": {},
   "outputs": [],
   "source": [
    "test_dict['Rocket_csr']"
   ]
  },
  {
   "cell_type": "code",
   "execution_count": null,
   "id": "0fba5178",
   "metadata": {},
   "outputs": [],
   "source": [
    "import json\n",
    "\n",
    "with open('test_datapoints.json', 'w') as fp:\n",
    "    json.dump(test_dict, fp)"
   ]
  },
  {
   "cell_type": "code",
   "execution_count": null,
   "id": "9171fe76",
   "metadata": {},
   "outputs": [],
   "source": [
    "train_data = {}\n",
    "for i in data_bible:\n",
    "    train_data[i] = {}\n",
    "    for j in range(1500):\n",
    "        if str(j+1) not in test_dict[i]:\n",
    "            train_data[i][str(j+1)] = data_bible[i][j]"
   ]
  },
  {
   "cell_type": "code",
   "execution_count": null,
   "id": "4c8530fe",
   "metadata": {},
   "outputs": [],
   "source": [
    "len(train_data['Rocket_csr'])"
   ]
  },
  {
   "cell_type": "code",
   "execution_count": null,
   "id": "d2a744bf",
   "metadata": {},
   "outputs": [],
   "source": [
    "import json\n",
    "\n",
    "with open('train_datapoints.json', 'w') as fp:\n",
    "    json.dump(train_data, fp)"
   ]
  },
  {
   "cell_type": "code",
   "execution_count": null,
   "id": "7afd133e",
   "metadata": {},
   "outputs": [],
   "source": []
  }
 ],
 "metadata": {
  "kernelspec": {
   "display_name": "Python 3 (ipykernel)",
   "language": "python",
   "name": "python3"
  },
  "language_info": {
   "codemirror_mode": {
    "name": "ipython",
    "version": 3
   },
   "file_extension": ".py",
   "mimetype": "text/x-python",
   "name": "python",
   "nbconvert_exporter": "python",
   "pygments_lexer": "ipython3",
   "version": "3.8.13"
  }
 },
 "nbformat": 4,
 "nbformat_minor": 5
}
