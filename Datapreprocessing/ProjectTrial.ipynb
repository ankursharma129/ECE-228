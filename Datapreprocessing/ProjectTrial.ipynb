{
 "cells": [
  {
   "cell_type": "code",
   "execution_count": 1,
   "id": "3311b246",
   "metadata": {},
   "outputs": [],
   "source": [
    "import torch\n",
    "import json"
   ]
  },
  {
   "cell_type": "code",
   "execution_count": 2,
   "id": "e71b4d24",
   "metadata": {},
   "outputs": [],
   "source": [
    "import numpy as np"
   ]
  },
  {
   "cell_type": "code",
   "execution_count": 3,
   "id": "7154c307",
   "metadata": {},
   "outputs": [],
   "source": [
    "import torch.optim as optim"
   ]
  },
  {
   "cell_type": "code",
   "execution_count": 4,
   "id": "c78fab4b",
   "metadata": {},
   "outputs": [],
   "source": [
    "X_train = []\n",
    "Y_train = []\n",
    "train = []\n",
    "\n",
    "X_test = []\n",
    "Y_test = []\n",
    "test = []\n",
    "\n",
    "f = open('train_datapoints.json')\n",
    "data_x = json.load(f)\n",
    "\n",
    "designs = list(data_x.keys())\n",
    "for i in range(len(data_x)):\n",
    "    for j in data_x[designs[i]]:\n",
    "        train.append([i, int(j), data_x[designs[i]][j][0], data_x[designs[i]][j][1], data_x[designs[i]][j][2], \n",
    "                        data_x[designs[i]][j][3], data_x[designs[i]][j][4]])\n",
    "        \n",
    "f = open('test_datapoints.json')\n",
    "data_t = json.load(f)\n",
    "\n",
    "for i in range(len(data_x)):\n",
    "    for j in data_t[designs[i]]:\n",
    "        test.append([i, int(j), data_t[designs[i]][j][0], data_t[designs[i]][j][1], data_t[designs[i]][j][2], \n",
    "                        data_t[designs[i]][j][3], data_t[designs[i]][j][4]])"
   ]
  },
  {
   "cell_type": "code",
   "execution_count": 5,
   "id": "4008dcc3",
   "metadata": {},
   "outputs": [],
   "source": [
    "train = np.array(train)\n",
    "\n",
    "train = train/(train.max(axis=0)-train.min(axis=0))"
   ]
  },
  {
   "cell_type": "code",
   "execution_count": 6,
   "id": "1f5d4bb1",
   "metadata": {},
   "outputs": [],
   "source": [
    "test = np.array(test)\n",
    "\n",
    "test = test/(test.max(axis=0)-train.min(axis=0))"
   ]
  },
  {
   "cell_type": "code",
   "execution_count": null,
   "id": "75322552",
   "metadata": {},
   "outputs": [],
   "source": [
    "train"
   ]
  },
  {
   "cell_type": "code",
   "execution_count": null,
   "id": "575443e3",
   "metadata": {},
   "outputs": [],
   "source": [
    "train = np.array(train, dtype=np.float32)\n",
    "test = np.array(test, dtype=np.float32)\n",
    "print(train[0])"
   ]
  },
  {
   "cell_type": "code",
   "execution_count": 7,
   "id": "7a1ce872",
   "metadata": {},
   "outputs": [],
   "source": [
    "np.random.shuffle(train)"
   ]
  },
  {
   "cell_type": "code",
   "execution_count": 8,
   "id": "eb071888",
   "metadata": {},
   "outputs": [],
   "source": [
    "np.random.shuffle(test)"
   ]
  },
  {
   "cell_type": "code",
   "execution_count": null,
   "id": "f624b680",
   "metadata": {},
   "outputs": [],
   "source": [
    "len(train)"
   ]
  },
  {
   "cell_type": "code",
   "execution_count": 9,
   "id": "145518a7",
   "metadata": {},
   "outputs": [],
   "source": [
    "X_train = np.array(train[:, :-1])\n",
    "Y_train = np.array(train[:, -1])"
   ]
  },
  {
   "cell_type": "code",
   "execution_count": 10,
   "id": "6dd5a79e",
   "metadata": {},
   "outputs": [],
   "source": [
    "X_test = np.array(test[:, :-1])\n",
    "Y_test = np.array(test[:, -1])"
   ]
  },
  {
   "cell_type": "code",
   "execution_count": 11,
   "id": "62a6c62b",
   "metadata": {},
   "outputs": [],
   "source": [
    "from torch.autograd import Variable\n",
    "class linearRegression(torch.nn.Module):\n",
    "    def __init__(self, inputSize, outputSize):\n",
    "        super().__init__()\n",
    "        self.l1 = torch.nn.Linear(inputSize, 16)\n",
    "        self.ReLu1 = torch.nn.ReLU()\n",
    "        self.l2 = torch.nn.Linear(16, 16)\n",
    "        self.ReLu2 = torch.nn.ReLU()\n",
    "        self.l3 = torch.nn.Linear(16, 16)\n",
    "        self.ReLu3 = torch.nn.ReLU()\n",
    "        self.l4 = torch.nn.Linear(16, 1)\n",
    "        self.sig = torch.nn.Sigmoid()\n",
    "\n",
    "    def forward(self, x):\n",
    "        out = self.l1(x)\n",
    "        out = self.ReLu1(out)\n",
    "        out = self.l2(out)\n",
    "        out = self.ReLu2(out)\n",
    "        out = self.l3(out)\n",
    "        out = self.ReLu3(out)\n",
    "        out = self.l4(out)\n",
    "        out = self.sig(out)\n",
    "        return out"
   ]
  },
  {
   "cell_type": "code",
   "execution_count": 12,
   "id": "dc462a6f",
   "metadata": {},
   "outputs": [],
   "source": [
    "X_train = np.array(X_train, dtype=np.float32)\n",
    "Y_train = np.array(Y_train, dtype=np.float32)\n",
    "X_test = np.array(X_test, dtype=np.float32)\n",
    "Y_test = np.array(Y_test, dtype=np.float32)"
   ]
  },
  {
   "cell_type": "code",
   "execution_count": 16,
   "id": "59e83d5e",
   "metadata": {},
   "outputs": [],
   "source": [
    "inputDim = 6        # takes variable 'x' \n",
    "outputDim = 1       # takes variable 'y'\n",
    "learningRate = 0.01 \n",
    "epochs = 100\n",
    "\n",
    "model = linearRegression(inputDim, outputDim)\n",
    "##### For GPU #######\n",
    "if torch.cuda.is_available():\n",
    "    model.cuda()"
   ]
  },
  {
   "cell_type": "code",
   "execution_count": 17,
   "id": "12e9bed5",
   "metadata": {},
   "outputs": [],
   "source": [
    "criterion = torch.nn.MSELoss() \n",
    "optimizer = optim.Adam(model.parameters(), lr=0.001, betas=(0.7, 0.999), eps=1e-08, weight_decay=0.01)\n",
    "scheduler = optim.lr_scheduler.StepLR(optimizer, step_size=10, gamma=0.5)"
   ]
  },
  {
   "cell_type": "code",
   "execution_count": null,
   "id": "8f9c265b",
   "metadata": {},
   "outputs": [],
   "source": [
    "for epoch in range(epochs):\n",
    "    # Converting inputs and labels to Variable\n",
    "    if torch.cuda.is_available():\n",
    "        inputs = Variable(torch.from_numpy(X_train).cuda())\n",
    "        labels = Variable(torch.from_numpy(Y_train).cuda())\n",
    "    else:\n",
    "        inputs = Variable(torch.from_numpy(X_train))\n",
    "        labels = Variable(torch.from_numpy(Y_train))\n",
    "\n",
    "    # Clear gradient buffers because we don't want any gradient from previous epoch to carry forward, dont want to cummulate gradients\n",
    "    optimizer.zero_grad()\n",
    "\n",
    "    # get output from the model, given the inputs\n",
    "    outputs = model(inputs)\n",
    "\n",
    "    # get loss for the predicted output\n",
    "    loss = criterion(outputs, labels)\n",
    "    print(loss)\n",
    "    # get gradients w.r.t to parameters\n",
    "    loss.backward()\n",
    "\n",
    "    # update parameters\n",
    "    optimizer.step()\n",
    "\n",
    "    print('epoch {}, loss {}'.format(epoch, loss.item()))"
   ]
  },
  {
   "cell_type": "code",
   "execution_count": null,
   "id": "2490d68d",
   "metadata": {},
   "outputs": [],
   "source": [
    "import matplotlib.pyplot as plt\n",
    "\n",
    "with torch.no_grad(): # we don't need gradients in the testing phase\n",
    "    if torch.cuda.is_available():\n",
    "        predicted = model(Variable(torch.from_numpy(X_train).cuda())).cpu().data.numpy()\n",
    "    else:\n",
    "        predicted = model(Variable(torch.from_numpy(X_train))).data.numpy()\n",
    "    print(predicted)\n",
    "\n",
    "plt.clf()\n",
    "plt.plot(X_train[:,0], Y_train, 'go', label='True data', alpha=0.5)\n",
    "plt.plot(X_train[:,0], predicted, 'o', label='Predictions', alpha=0.5)\n",
    "plt.legend(loc='best')\n",
    "plt.show()"
   ]
  },
  {
   "cell_type": "code",
   "execution_count": null,
   "id": "0fa75d21",
   "metadata": {},
   "outputs": [],
   "source": [
    "Y_train"
   ]
  },
  {
   "cell_type": "code",
   "execution_count": null,
   "id": "54df9ef3",
   "metadata": {},
   "outputs": [],
   "source": [
    "max(Y_train)"
   ]
  },
  {
   "cell_type": "code",
   "execution_count": null,
   "id": "6a9c3418",
   "metadata": {},
   "outputs": [],
   "source": [
    "arr = np.array([[1,2,3],[4,5,6],[7,8,9]])\n",
    "from sklearn.preprocessing import normalize\n",
    "p = normalize(arr, axis=1, norm='l1')"
   ]
  },
  {
   "cell_type": "code",
   "execution_count": null,
   "id": "68498c0c",
   "metadata": {},
   "outputs": [],
   "source": [
    "Y_train"
   ]
  },
  {
   "cell_type": "code",
   "execution_count": null,
   "id": "7761d43c",
   "metadata": {},
   "outputs": [],
   "source": [
    "arr"
   ]
  },
  {
   "cell_type": "code",
   "execution_count": null,
   "id": "963045d0",
   "metadata": {},
   "outputs": [],
   "source": [
    "q = normalize(arr, axis=0, norm='l1')"
   ]
  },
  {
   "cell_type": "code",
   "execution_count": null,
   "id": "8aad23a6",
   "metadata": {},
   "outputs": [],
   "source": [
    "q"
   ]
  },
  {
   "cell_type": "code",
   "execution_count": null,
   "id": "f11ea992",
   "metadata": {},
   "outputs": [],
   "source": [
    "a = np.array([1, 4, 7])\n",
    "a = a.reshape(-1,1)\n",
    "normalize(a, axis=0, norm='l1')"
   ]
  },
  {
   "cell_type": "code",
   "execution_count": 18,
   "id": "d20766da",
   "metadata": {},
   "outputs": [
    {
     "name": "stderr",
     "output_type": "stream",
     "text": [
      "/tmp/ipykernel_575/3196261355.py:13: UserWarning: To copy construct from a tensor, it is recommended to use sourceTensor.clone().detach() or sourceTensor.clone().detach().requires_grad_(True), rather than torch.tensor(sourceTensor).\n",
      "  inputs, labels = torch.tensor(inputs).unsqueeze(1).float(), torch.tensor(labels)\n"
     ]
    },
    {
     "name": "stdout",
     "output_type": "stream",
     "text": [
      "[1, 50305] loss: 4.183\n",
      "[2, 50305] loss: 0.991\n",
      "[3, 50305] loss: 0.981\n",
      "[4, 50305] loss: 0.983\n",
      "[5, 50305] loss: 0.989\n",
      "[6, 50305] loss: 0.997\n",
      "[7, 50305] loss: 1.006\n",
      "[8, 50305] loss: 1.013\n",
      "[9, 50305] loss: 1.020\n",
      "[10, 50305] loss: 1.025\n",
      "[11, 50305] loss: 1.030\n",
      "[12, 50305] loss: 1.032\n",
      "[13, 50305] loss: 1.035\n",
      "[14, 50305] loss: 1.037\n",
      "[15, 50305] loss: 1.040\n",
      "[16, 50305] loss: 1.043\n",
      "[17, 50305] loss: 1.045\n",
      "[18, 50305] loss: 1.047\n",
      "[19, 50305] loss: 1.049\n",
      "[20, 50305] loss: 1.050\n",
      "[21, 50305] loss: 1.052\n",
      "[22, 50305] loss: 1.052\n",
      "[23, 50305] loss: 1.052\n",
      "[24, 50305] loss: 1.053\n",
      "[25, 50305] loss: 1.053\n",
      "[26, 50305] loss: 1.053\n",
      "[27, 50305] loss: 1.054\n",
      "[28, 50305] loss: 1.054\n",
      "[29, 50305] loss: 1.054\n",
      "[30, 50305] loss: 1.054\n",
      "[31, 50305] loss: 1.055\n",
      "[32, 50305] loss: 1.054\n",
      "[33, 50305] loss: 1.054\n",
      "[34, 50305] loss: 1.054\n",
      "[35, 50305] loss: 1.054\n",
      "[36, 50305] loss: 1.055\n",
      "[37, 50305] loss: 1.055\n"
     ]
    },
    {
     "ename": "KeyboardInterrupt",
     "evalue": "",
     "output_type": "error",
     "traceback": [
      "\u001b[0;31m---------------------------------------------------------------------------\u001b[0m",
      "\u001b[0;31mKeyboardInterrupt\u001b[0m                         Traceback (most recent call last)",
      "\u001b[0;32m/tmp/ipykernel_575/3196261355.py\u001b[0m in \u001b[0;36m<module>\u001b[0;34m\u001b[0m\n\u001b[1;32m     19\u001b[0m         \u001b[0moutputs\u001b[0m \u001b[0;34m=\u001b[0m \u001b[0mmodel\u001b[0m\u001b[0;34m(\u001b[0m\u001b[0minputs\u001b[0m\u001b[0;34m)\u001b[0m\u001b[0;34m\u001b[0m\u001b[0;34m\u001b[0m\u001b[0m\n\u001b[1;32m     20\u001b[0m         \u001b[0mloss\u001b[0m \u001b[0;34m=\u001b[0m \u001b[0mcriterion\u001b[0m\u001b[0;34m(\u001b[0m\u001b[0moutputs\u001b[0m\u001b[0;34m,\u001b[0m \u001b[0mlabels\u001b[0m\u001b[0;34m)\u001b[0m\u001b[0;34m\u001b[0m\u001b[0;34m\u001b[0m\u001b[0m\n\u001b[0;32m---> 21\u001b[0;31m         \u001b[0mloss\u001b[0m\u001b[0;34m.\u001b[0m\u001b[0mbackward\u001b[0m\u001b[0;34m(\u001b[0m\u001b[0;34m)\u001b[0m\u001b[0;34m\u001b[0m\u001b[0;34m\u001b[0m\u001b[0m\n\u001b[0m\u001b[1;32m     22\u001b[0m         \u001b[0moptimizer\u001b[0m\u001b[0;34m.\u001b[0m\u001b[0mstep\u001b[0m\u001b[0;34m(\u001b[0m\u001b[0;34m)\u001b[0m\u001b[0;34m\u001b[0m\u001b[0;34m\u001b[0m\u001b[0m\n\u001b[1;32m     23\u001b[0m \u001b[0;34m\u001b[0m\u001b[0m\n",
      "\u001b[0;32m/opt/conda/lib/python3.9/site-packages/torch/_tensor.py\u001b[0m in \u001b[0;36mbackward\u001b[0;34m(self, gradient, retain_graph, create_graph, inputs)\u001b[0m\n\u001b[1;32m    253\u001b[0m                 \u001b[0mcreate_graph\u001b[0m\u001b[0;34m=\u001b[0m\u001b[0mcreate_graph\u001b[0m\u001b[0;34m,\u001b[0m\u001b[0;34m\u001b[0m\u001b[0;34m\u001b[0m\u001b[0m\n\u001b[1;32m    254\u001b[0m                 inputs=inputs)\n\u001b[0;32m--> 255\u001b[0;31m         \u001b[0mtorch\u001b[0m\u001b[0;34m.\u001b[0m\u001b[0mautograd\u001b[0m\u001b[0;34m.\u001b[0m\u001b[0mbackward\u001b[0m\u001b[0;34m(\u001b[0m\u001b[0mself\u001b[0m\u001b[0;34m,\u001b[0m \u001b[0mgradient\u001b[0m\u001b[0;34m,\u001b[0m \u001b[0mretain_graph\u001b[0m\u001b[0;34m,\u001b[0m \u001b[0mcreate_graph\u001b[0m\u001b[0;34m,\u001b[0m \u001b[0minputs\u001b[0m\u001b[0;34m=\u001b[0m\u001b[0minputs\u001b[0m\u001b[0;34m)\u001b[0m\u001b[0;34m\u001b[0m\u001b[0;34m\u001b[0m\u001b[0m\n\u001b[0m\u001b[1;32m    256\u001b[0m \u001b[0;34m\u001b[0m\u001b[0m\n\u001b[1;32m    257\u001b[0m     \u001b[0;32mdef\u001b[0m \u001b[0mregister_hook\u001b[0m\u001b[0;34m(\u001b[0m\u001b[0mself\u001b[0m\u001b[0;34m,\u001b[0m \u001b[0mhook\u001b[0m\u001b[0;34m)\u001b[0m\u001b[0;34m:\u001b[0m\u001b[0;34m\u001b[0m\u001b[0;34m\u001b[0m\u001b[0m\n",
      "\u001b[0;32m/opt/conda/lib/python3.9/site-packages/torch/autograd/__init__.py\u001b[0m in \u001b[0;36mbackward\u001b[0;34m(tensors, grad_tensors, retain_graph, create_graph, grad_variables, inputs)\u001b[0m\n\u001b[1;32m    145\u001b[0m         \u001b[0mretain_graph\u001b[0m \u001b[0;34m=\u001b[0m \u001b[0mcreate_graph\u001b[0m\u001b[0;34m\u001b[0m\u001b[0;34m\u001b[0m\u001b[0m\n\u001b[1;32m    146\u001b[0m \u001b[0;34m\u001b[0m\u001b[0m\n\u001b[0;32m--> 147\u001b[0;31m     Variable._execution_engine.run_backward(\n\u001b[0m\u001b[1;32m    148\u001b[0m         \u001b[0mtensors\u001b[0m\u001b[0;34m,\u001b[0m \u001b[0mgrad_tensors_\u001b[0m\u001b[0;34m,\u001b[0m \u001b[0mretain_graph\u001b[0m\u001b[0;34m,\u001b[0m \u001b[0mcreate_graph\u001b[0m\u001b[0;34m,\u001b[0m \u001b[0minputs\u001b[0m\u001b[0;34m,\u001b[0m\u001b[0;34m\u001b[0m\u001b[0;34m\u001b[0m\u001b[0m\n\u001b[1;32m    149\u001b[0m         allow_unreachable=True, accumulate_grad=True)  # allow_unreachable flag\n",
      "\u001b[0;31mKeyboardInterrupt\u001b[0m: "
     ]
    }
   ],
   "source": [
    "for epoch in range(100):  # loop over the dataset multiple times\n",
    "    trainloader = [X_train, Y_train]\n",
    "    running_loss = 0.0\n",
    "    for i in range(0, len(X_train), 128):\n",
    "        # get the inputs; data is a list of [inputs, labels]\n",
    "        if torch.cuda.is_available():\n",
    "            inputs = Variable(torch.from_numpy(X_train[i:i+128]).cuda())\n",
    "            labels = Variable(torch.from_numpy(Y_train[i:i+128]).cuda())\n",
    "        else:\n",
    "            inputs = Variable(torch.from_numpy(X_train[i:i+128]))\n",
    "            labels = Variable(torch.from_numpy(Y_train[i:i+128]))\n",
    "\n",
    "        inputs, labels = torch.tensor(inputs).unsqueeze(1).float(), torch.tensor(labels)\n",
    "        # zero the parameter gradients\n",
    "        optimizer.zero_grad()\n",
    "\n",
    "        # forward + backward + optimize\n",
    "#         print(inputs.shape)\n",
    "        outputs = model(inputs)\n",
    "        loss = criterion(outputs, labels)\n",
    "        loss.backward()\n",
    "        optimizer.step()\n",
    "\n",
    "        # print statistics\n",
    "        running_loss += loss.item()\n",
    "        batch_size = len(labels)\n",
    "    print(f'[{epoch + 1}, {i + 1:5d}] loss: {running_loss / batch_size:.3f}')\n",
    "    running_loss = 0.0\n",
    "    scheduler.step()\n",
    "\n",
    "# test_acc = check_accuracy(cnnWithBatchNormNet, Data(batch_size=batch_size, dataset_directory=dataset_directory).load_test_data(), 'forward')\n",
    "# print('Finished Training with test acc: ', test_acc)"
   ]
  },
  {
   "cell_type": "code",
   "execution_count": null,
   "id": "07b38a4d",
   "metadata": {},
   "outputs": [],
   "source": [
    "trainloader = [X_train, Y_train]\n",
    "for i in enumerate(trainloader, 32):\n",
    "    print(\"00000\", i[0], \"111111\", len(i[1]))"
   ]
  },
  {
   "cell_type": "code",
   "execution_count": 19,
   "id": "d824c915",
   "metadata": {},
   "outputs": [
    {
     "name": "stdout",
     "output_type": "stream",
     "text": [
      "1\n",
      "4\n",
      "7\n"
     ]
    }
   ],
   "source": [
    "for i in range(1,10,3):\n",
    "    print(i)"
   ]
  },
  {
   "cell_type": "code",
   "execution_count": null,
   "id": "0dc186fb",
   "metadata": {},
   "outputs": [],
   "source": []
  }
 ],
 "metadata": {
  "kernelspec": {
   "display_name": "Python 3 (ipykernel)",
   "language": "python",
   "name": "python3"
  },
  "language_info": {
   "codemirror_mode": {
    "name": "ipython",
    "version": 3
   },
   "file_extension": ".py",
   "mimetype": "text/x-python",
   "name": "python",
   "nbconvert_exporter": "python",
   "pygments_lexer": "ipython3",
   "version": "3.8.13"
  }
 },
 "nbformat": 4,
 "nbformat_minor": 5
}
