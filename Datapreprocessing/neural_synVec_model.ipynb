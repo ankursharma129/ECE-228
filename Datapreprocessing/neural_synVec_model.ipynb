{
 "cells": [
  {
   "cell_type": "code",
   "execution_count": 1,
   "id": "bbcaff70",
   "metadata": {},
   "outputs": [],
   "source": [
    "import torch\n",
    "import os\n",
    "\n",
    "from torch.optim.lr_scheduler import ReduceLROnPlateau\n",
    "import json\n",
    "import numpy as np\n",
    "from torch.autograd import Variable"
   ]
  },
  {
   "cell_type": "code",
   "execution_count": null,
   "id": "de9bdab4",
   "metadata": {},
   "outputs": [],
   "source": [
    "class linearRegression(torch.nn.Module):\n",
    "    def __init__(self, inputSize, outputSize):\n",
    "        super().__init__()\n",
    "        self.l1 = torch.nn.Linear(inputSize, 128)\n",
    "        self.ReLu1 = torch.nn.ReLU()\n",
    "        self.bn1 = torch.nn.BatchNorm1d(128)\n",
    "        self.l2 = torch.nn.Linear(128, 128)\n",
    "        self.ReLu2 = torch.nn.ReLU()\n",
    "        self.bn2 = torch.nn.BatchNorm1d(128)\n",
    "        self.l3 = torch.nn.Linear(128, 128\n",
    "        self.ReLu3 = torch.nn.ReLU()\n",
    "        self.bn3 = torch.nn.BatchNorm1d(128)\n",
    "        self.l4 = torch.nn.Linear(1281)\n",
    "\n",
    "    def forward(self, x):\n",
    "        out = self.l1(x)\n",
    "        out = self.bn1(out)\n",
    "        out = self.ReLu1(out)\n",
    "        \n",
    "        out = self.l2(out)\n",
    "        out = self.bn2(out)\n",
    "        out = self.ReLu2(out)\n",
    "        \n",
    "        out = self.l3(out)\n",
    "        out = self.bn3(out)\n",
    "        out = self.ReLu3(out)\n",
    "        \n",
    "        out = self.l4(out)\n",
    "        return out\n",
    "    \n",
    "criterion = torch.nn.MSELoss() \n",
    "optimizer = optim.Adam(model.parameters(), lr=0.001)\n",
    "scheduler = ReduceLROnPlateau(optimizer, 'min',verbose=True)\n",
    "device = getDevice()\n",
    "model = model.to(device)"
   ]
  }
 ],
 "metadata": {
  "kernelspec": {
   "display_name": "Python 3 (ipykernel)",
   "language": "python",
   "name": "python3"
  },
  "language_info": {
   "codemirror_mode": {
    "name": "ipython",
    "version": 3
   },
   "file_extension": ".py",
   "mimetype": "text/x-python",
   "name": "python",
   "nbconvert_exporter": "python",
   "pygments_lexer": "ipython3",
   "version": "3.9.5"
  }
 },
 "nbformat": 4,
 "nbformat_minor": 5
}
